{
 "cells": [
  {
   "cell_type": "code",
   "execution_count": null,
   "metadata": {
    "collapsed": false
   },
   "outputs": [],
   "source": [
    "import numpy as np\n",
    "import matplotlib.pyplot as plt\n",
    "import matplotlib.cm as cm\n",
    "from scipy.ndimage.filters import convolve\n",
    "from PIL import Image"
   ]
  },
  {
   "cell_type": "code",
   "execution_count": null,
   "metadata": {
    "collapsed": false
   },
   "outputs": [],
   "source": [
    "x = np.linspace(-5, 5)\n",
    "y = x.copy()\n",
    "xx, yy = np.meshgrid(x,y)"
   ]
  },
  {
   "cell_type": "code",
   "execution_count": null,
   "metadata": {
    "collapsed": false
   },
   "outputs": [],
   "source": [
    "plt.imshow(yy)\n",
    "plt.show()"
   ]
  },
  {
   "cell_type": "code",
   "execution_count": null,
   "metadata": {
    "collapsed": false
   },
   "outputs": [],
   "source": [
    "plt.imshow(xx)\n",
    "plt.show()"
   ]
  },
  {
   "cell_type": "code",
   "execution_count": null,
   "metadata": {
    "collapsed": false
   },
   "outputs": [],
   "source": [
    "grating = np.sin(xx)\n",
    "plt.imshow(grating)\n",
    "plt.show()"
   ]
  },
  {
   "cell_type": "code",
   "execution_count": null,
   "metadata": {
    "collapsed": false
   },
   "outputs": [],
   "source": [
    "grating = np.sin(yy)\n",
    "plt.imshow(grating)\n",
    "plt.show()"
   ]
  },
  {
   "cell_type": "code",
   "execution_count": null,
   "metadata": {
    "collapsed": false
   },
   "outputs": [],
   "source": [
    "grating = np.sin(xx + yy)\n",
    "plt.imshow(grating)\n",
    "plt.show()"
   ]
  },
  {
   "cell_type": "code",
   "execution_count": null,
   "metadata": {
    "collapsed": false
   },
   "outputs": [],
   "source": [
    "def create_gabor_vertical(x, y, d, sigma_x, sigma_y, omega, psi):\n",
    "    output = 1./d * np.exp(-((x**2/sigma_x**2)+(y**2/sigma_y**2))) * np.cos(omega*x + psi)\n",
    "    return output\n",
    "\n",
    "g1 = create_gabor_vertical(xx,yy,2,2,2,2,2)\n",
    "plt.imshow(g1, cm.gray)\n",
    "plt.show()"
   ]
  },
  {
   "cell_type": "code",
   "execution_count": null,
   "metadata": {
    "collapsed": false
   },
   "outputs": [],
   "source": [
    "def create_gabor_horizontal(x, y, d, sigma_x, sigma_y, omega, psi):\n",
    "    output = 1./d * np.exp(-((x**2/sigma_x**2)+(y**2/sigma_y**2))) * np.cos(omega*y + psi)\n",
    "    return output\n",
    "\n",
    "g2 = create_gabor_horizontal(xx,yy,2,2,2,2,2)\n",
    "plt.imshow(g2, cm.gray)\n",
    "plt.show()"
   ]
  },
  {
   "cell_type": "code",
   "execution_count": null,
   "metadata": {
    "collapsed": false
   },
   "outputs": [],
   "source": [
    "g3 = create_gabor_horizontal(xx+yy,xx-yy,2,2,2,2,2)\n",
    "plt.imshow(g3, cm.gray)\n",
    "plt.show()"
   ]
  },
  {
   "cell_type": "code",
   "execution_count": null,
   "metadata": {
    "collapsed": false
   },
   "outputs": [],
   "source": [
    "# https://commons.wikimedia.org/wiki/File:Macronaria_scrubbed_enh.jpg\n",
    "img = Image.open('input.jpg')\n",
    "img_arr = np.array(img)\n",
    "filtered = convolve(img_arr[:,:,0], g1)\n",
    "plt.imshow(filtered, cm.gray)\n",
    "plt.show()"
   ]
  },
  {
   "cell_type": "code",
   "execution_count": null,
   "metadata": {
    "collapsed": false
   },
   "outputs": [],
   "source": []
  }
 ],
 "metadata": {
  "kernelspec": {
   "display_name": "Python 2",
   "language": "python",
   "name": "python2"
  },
  "language_info": {
   "codemirror_mode": {
    "name": "ipython",
    "version": 2
   },
   "file_extension": ".py",
   "mimetype": "text/x-python",
   "name": "python",
   "nbconvert_exporter": "python",
   "pygments_lexer": "ipython2",
   "version": "2.7.10"
  }
 },
 "nbformat": 4,
 "nbformat_minor": 1
}
